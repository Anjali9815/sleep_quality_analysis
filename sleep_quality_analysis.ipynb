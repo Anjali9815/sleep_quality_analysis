{
 "cells": [
  {
   "cell_type": "markdown",
   "metadata": {},
   "source": [
    "# SLEEP QUALITY ANALYSIS \n",
    "\n",
    "\n",
    "### 1. Data Collections \n",
    "Collected data from a dataset titled \"Sleep Health and Lifestyle Dataset\" available on Kaggle. This dataset contains various health and lifestyle factors related to sleep quality, including age, sex, weight, height, sleep duration, sleep efficiency, sleep quality, and sleep disorder.\n",
    "\n",
    "\n",
    "\n",
    "### 2. Data Cleaning\n",
    "Checked for any missing values in the dataset and filled them with the mean value of the respective column. This was done using the `fillna()` function in Pandas.\n",
    "\n",
    "\n",
    "\n",
    "\n",
    "### 3. Feature Engineering\n",
    "Split the 'Blood Pressure' column into 'systolic_pressure' and 'diastolic_pressure' for easier analysis.\n",
    "\n",
    "Converting the 'Gender' column to numerical values using dummy variables.\n",
    "\n",
    "Creating new columns 'BMI_overweight' and 'BMI_Normal' based on the 'BMI Category' values.\n",
    "\n",
    "Sleep disorder is considered as yes or no depending on type of sleep_disorder\n",
    "\n",
    "\n",
    "\n",
    "### 4. Data visualization\n",
    "\n",
    "Analyzed the correlation using correlation matrix.\n",
    "\n",
    "Visualized the correlation using scatter plots\n",
    "\n",
    "\n",
    "### 5. Model Training and selection\n",
    "Split the dataset into training and testing sets using `train_test_split` from sklearn.\n",
    "\n",
    "Tried multiple regression models including Linear Regression and Lasso Regression.\n",
    "\n",
    "Compared the performance of these models using R-squared.\n",
    "\n",
    "\n"
   ]
  },
  {
   "cell_type": "code",
   "execution_count": null,
   "metadata": {},
   "outputs": [],
   "source": [
    "import pandas as pd\n",
    "import numpy as np"
   ]
  },
  {
   "cell_type": "code",
   "execution_count": null,
   "metadata": {},
   "outputs": [],
   "source": [
    "df = pd.read_csv(\"Sleep_health_and_lifestyle_dataset.csv\")\n",
    "df.head()"
   ]
  },
  {
   "cell_type": "markdown",
   "metadata": {},
   "source": [
    "## DATA CLEANING"
   ]
  },
  {
   "cell_type": "code",
   "execution_count": null,
   "metadata": {},
   "outputs": [],
   "source": [
    "df.columns"
   ]
  },
  {
   "cell_type": "code",
   "execution_count": null,
   "metadata": {},
   "outputs": [],
   "source": [
    "df.shape"
   ]
  },
  {
   "cell_type": "code",
   "execution_count": null,
   "metadata": {},
   "outputs": [],
   "source": [
    "df.info()"
   ]
  },
  {
   "cell_type": "code",
   "execution_count": null,
   "metadata": {},
   "outputs": [],
   "source": [
    "df.isnull().sum()"
   ]
  },
  {
   "cell_type": "code",
   "execution_count": null,
   "metadata": {},
   "outputs": [],
   "source": [
    "df['Sleep Disorder'] = df['Sleep Disorder'].fillna(0)"
   ]
  },
  {
   "cell_type": "markdown",
   "metadata": {},
   "source": [
    "## CATEGORICAL DATA ANALYSIS"
   ]
  },
  {
   "cell_type": "code",
   "execution_count": null,
   "metadata": {},
   "outputs": [],
   "source": [
    "df.head()"
   ]
  },
  {
   "cell_type": "code",
   "execution_count": null,
   "metadata": {},
   "outputs": [],
   "source": [
    "df['systolic_pressure'] = df['Blood Pressure'].str.split('/').str[0].astype(int)\n",
    "df['diastolic_pressure'] = df['Blood Pressure'].str.split('/').str[1].astype(int)\n",
    "df"
   ]
  },
  {
   "cell_type": "code",
   "execution_count": null,
   "metadata": {},
   "outputs": [],
   "source": [
    "gender_dummies_df = pd.get_dummies(df['Gender']).astype(int)\n",
    "gender_dummies_df\n",
    "df = pd.concat([df, gender_dummies_df], axis=1)\n",
    "df.head()"
   ]
  },
  {
   "cell_type": "code",
   "execution_count": null,
   "metadata": {},
   "outputs": [],
   "source": [
    "df['BMI Category'].unique()"
   ]
  },
  {
   "cell_type": "code",
   "execution_count": null,
   "metadata": {},
   "outputs": [],
   "source": [
    "# Map Obese and Overweight as one category called BMI_overweight\n",
    "# Normal and Normal Weight as another category as BMI_Category_Normal\n",
    "df['BMI_overweight'] = df['BMI Category'].isin(['Overweight', 'Obese']).astype(int)\n",
    "df['BMI_Normal'] = df['BMI Category'].isin(['Normal', 'Normal Weight']).astype(int)\n",
    "df.head()\n",
    "\n",
    "# ['Age', 'Sleep Duration', 'Physical Activity Level', 'Stress Level',\n",
    "#        'Heart Rate', 'Daily Steps', 'systolic_pressure', 'diastolic_pressure',\n",
    "#        'Female', 'Male', 'BMI_overweight', 'BMI_Normal',\n",
    "    #    'Sleep Disorder Status']"
   ]
  },
  {
   "cell_type": "code",
   "execution_count": null,
   "metadata": {},
   "outputs": [],
   "source": [
    "df['Sleep Disorder'].unique()"
   ]
  },
  {
   "cell_type": "code",
   "execution_count": null,
   "metadata": {},
   "outputs": [],
   "source": [
    "df['Sleep Disorder Status'] = df['Sleep Disorder'].isin(['Sleep Apnea', 'Insomnia']).astype(int)"
   ]
  },
  {
   "cell_type": "code",
   "execution_count": null,
   "metadata": {},
   "outputs": [],
   "source": [
    "df['Occupation'].unique().tolist()"
   ]
  },
  {
   "cell_type": "markdown",
   "metadata": {},
   "source": [
    "## DATA VISUALIZATION"
   ]
  },
  {
   "cell_type": "code",
   "execution_count": null,
   "metadata": {},
   "outputs": [],
   "source": [
    "df1 = df.copy()\n",
    "df1.drop(['Gender', 'Person ID', 'BMI Category', 'Blood Pressure', 'Sleep Disorder', 'Occupation'], axis = 1, inplace= True)\n",
    "df1.head()"
   ]
  },
  {
   "cell_type": "code",
   "execution_count": null,
   "metadata": {},
   "outputs": [],
   "source": [
    "df1.shape"
   ]
  },
  {
   "cell_type": "code",
   "execution_count": null,
   "metadata": {},
   "outputs": [],
   "source": [
    "df1.isnull().sum()"
   ]
  },
  {
   "cell_type": "code",
   "execution_count": null,
   "metadata": {},
   "outputs": [],
   "source": [
    "df1.info()"
   ]
  },
  {
   "cell_type": "code",
   "execution_count": null,
   "metadata": {},
   "outputs": [],
   "source": [
    "import seaborn as sns\n",
    "import matplotlib.pyplot as plt\n",
    "%matplotlib inline\n",
    "\n",
    "sns.pairplot(df1)\n",
    "plt.show()"
   ]
  },
  {
   "cell_type": "code",
   "execution_count": null,
   "metadata": {},
   "outputs": [],
   "source": [
    "# Calculate the correlation matrix\n",
    "plt.figure(figsize=(12, 10))\n",
    "cor = df1.corr()\n",
    "sns.heatmap(cor, annot=True, cmap='coolwarm', fmt='.2f', vmin=-1, vmax=1, center=0)\n",
    "plt.show()\n"
   ]
  },
  {
   "cell_type": "code",
   "execution_count": null,
   "metadata": {},
   "outputs": [],
   "source": [
    "import matplotlib.pyplot as plt\n",
    "import seaborn as sns\n",
    "\n",
    "# Create a scatter plot with a regression line for Quality of Sleep vs. Sleep Duration\n",
    "plt.figure(figsize=(8, 5))\n",
    "sns.regplot(x='Sleep Duration', y='Quality of Sleep', data=df, scatter_kws={'alpha':0.6}, line_kws={'color':'red'})\n",
    "plt.title('Quality of Sleep vs Sleep Duration')\n",
    "plt.xlabel('Sleep Duration')\n",
    "plt.ylabel('Quality of Sleep')\n",
    "plt.show()\n"
   ]
  },
  {
   "cell_type": "code",
   "execution_count": null,
   "metadata": {},
   "outputs": [],
   "source": [
    "plt.figure(figsize=(8, 5))\n",
    "sns.regplot(x='Stress Level', y='Quality of Sleep', data=df, scatter_kws={'alpha':0.6}, line_kws={'color':'red'})\n",
    "plt.title('Quality of Sleep vs Stress level')\n",
    "plt.xlabel('Stress Level')\n",
    "plt.ylabel('Quality of Sleep')\n",
    "plt.show()\n"
   ]
  },
  {
   "cell_type": "code",
   "execution_count": null,
   "metadata": {},
   "outputs": [],
   "source": [
    "plt.figure(figsize=(8, 5))\n",
    "sns.regplot(x='Physical Activity Level', y='Quality of Sleep', data=df, scatter_kws={'alpha':0.6}, line_kws={'color':'red'})\n",
    "plt.title('Quality of Sleep vs Physical Activity Level')\n",
    "plt.xlabel('Physical Activity Level')\n",
    "plt.ylabel('Quality of Sleep')\n",
    "plt.show()"
   ]
  },
  {
   "cell_type": "code",
   "execution_count": null,
   "metadata": {},
   "outputs": [],
   "source": [
    "# systolic_pressure', 'diastolic_pressure', \n",
    "\n",
    "plt.figure(figsize=(8, 5))\n",
    "sns.regplot(x='systolic_pressure', y='Quality of Sleep', data=df)\n",
    "plt.title('Quality of Sleep vs systolic_pressure')\n",
    "plt.xlabel('systolic_pressurel')\n",
    "plt.ylabel('Quality of Sleep')\n",
    "plt.show()"
   ]
  },
  {
   "cell_type": "code",
   "execution_count": null,
   "metadata": {},
   "outputs": [],
   "source": [
    "plt.figure(figsize=(8, 5))\n",
    "sns.regplot(x='diastolic_pressure', y='Quality of Sleep', data=df, scatter_kws={'alpha':0.6}, line_kws={'color':'red'})\n",
    "plt.title('Quality of Sleep vs diastolic_pressure')\n",
    "plt.xlabel('diastolic_pressure')\n",
    "plt.ylabel('Quality of Sleep')\n",
    "plt.show()"
   ]
  },
  {
   "cell_type": "code",
   "execution_count": null,
   "metadata": {},
   "outputs": [],
   "source": [
    "plt.figure(figsize=(8, 5))\n",
    "sns.regplot(x='Daily Steps', y='Quality of Sleep', data=df, scatter_kws={'alpha':0.6}, line_kws={'color':'red'})\n",
    "plt.title('Quality of Sleep vs Daily Steps')\n",
    "plt.xlabel('Daily Steps')\n",
    "plt.ylabel('Quality of Sleep')\n",
    "plt.show()"
   ]
  },
  {
   "cell_type": "code",
   "execution_count": null,
   "metadata": {},
   "outputs": [],
   "source": [
    "plt.figure(figsize=(8, 5))\n",
    "sns.regplot(x='BMI_overweight', y='Quality of Sleep', data=df, scatter_kws={'alpha':0.6}, line_kws={'color':'red'})\n",
    "plt.title('Quality of Sleep vs BMI_overweight')\n",
    "plt.xlabel('BMI_overweight')\n",
    "plt.ylabel('Quality of Sleep')\n",
    "plt.show()"
   ]
  },
  {
   "cell_type": "code",
   "execution_count": null,
   "metadata": {},
   "outputs": [],
   "source": [
    "plt.figure(figsize=(8, 5))\n",
    "sns.regplot(x='BMI_Normal', y='Quality of Sleep', data=df, scatter_kws={'alpha':0.6}, line_kws={'color':'red'})\n",
    "plt.title('Quality of Sleep vs BMI_Normal')\n",
    "plt.xlabel('BMI_Normal')\n",
    "plt.ylabel('Quality of Sleep')\n",
    "plt.show()"
   ]
  },
  {
   "cell_type": "code",
   "execution_count": null,
   "metadata": {},
   "outputs": [],
   "source": [
    "plt.figure(figsize=(10, 8))\n",
    "sns.heatmap(df1.corr(), annot=True, fmt=\".2f\")\n",
    "plt.show()"
   ]
  },
  {
   "cell_type": "markdown",
   "metadata": {},
   "source": [
    "# MODEL TRAINING AND MODEL SELECTION"
   ]
  },
  {
   "cell_type": "code",
   "execution_count": null,
   "metadata": {},
   "outputs": [],
   "source": [
    "from sklearn.model_selection import train_test_split\n",
    "from sklearn.linear_model import LinearRegression, Lasso\n",
    "from sklearn.metrics import r2_score\n",
    "\n",
    "\n",
    "X = df1.drop('Quality of Sleep', axis = 1)\n",
    "Y  = df1['Quality of Sleep']\n",
    "\n",
    "X.columns"
   ]
  },
  {
   "cell_type": "code",
   "execution_count": null,
   "metadata": {},
   "outputs": [],
   "source": [
    "# Split the data\n",
    "X_train, X_test, Y_train, Y_test = train_test_split(X, Y, test_size=0.2, random_state=42)"
   ]
  },
  {
   "cell_type": "code",
   "execution_count": null,
   "metadata": {},
   "outputs": [],
   "source": [
    "linear_reg = LinearRegression()\n",
    "linear_reg = linear_reg.fit(X_train, Y_train)\n",
    "linear_reg.score(X_test, Y_test)\n"
   ]
  },
  {
   "cell_type": "code",
   "execution_count": null,
   "metadata": {},
   "outputs": [],
   "source": [
    "linear_reg.predict([[53, 8, 30, 3, 65, 5000, 125, 80, 1, 0, 0,1,0]])"
   ]
  },
  {
   "cell_type": "code",
   "execution_count": null,
   "metadata": {},
   "outputs": [],
   "source": [
    "lasso_reg = Lasso()\n",
    "lasso_reg = lasso_reg.fit(X_train, Y_train)\n",
    "lasso_reg.score(X_test, Y_test)"
   ]
  },
  {
   "cell_type": "code",
   "execution_count": null,
   "metadata": {},
   "outputs": [],
   "source": [
    "import joblib\n",
    "\n",
    "# save\n",
    "joblib.dump(linear_reg, \"model.pkl\") \n",
    "\n",
    "# load\n",
    "clf2 = joblib.load(\"model.pkl\")"
   ]
  },
  {
   "cell_type": "code",
   "execution_count": null,
   "metadata": {},
   "outputs": [],
   "source": [
    "X_test[0:1]"
   ]
  },
  {
   "cell_type": "code",
   "execution_count": null,
   "metadata": {},
   "outputs": [],
   "source": [
    "[53, 8, 30, 3, 65, 5000, 125, 80, 1, 0, 0,1,0]"
   ]
  }
 ],
 "metadata": {
  "kernelspec": {
   "display_name": "venv",
   "language": "python",
   "name": "python3"
  },
  "language_info": {
   "codemirror_mode": {
    "name": "ipython",
    "version": 3
   },
   "file_extension": ".py",
   "mimetype": "text/x-python",
   "name": "python",
   "nbconvert_exporter": "python",
   "pygments_lexer": "ipython3",
   "version": "3.12.6"
  }
 },
 "nbformat": 4,
 "nbformat_minor": 2
}
